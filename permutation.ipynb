{
  "nbformat": 4,
  "nbformat_minor": 0,
  "metadata": {
    "colab": {
      "name": "permutation.ipynb",
      "provenance": [],
      "collapsed_sections": [],
      "authorship_tag": "ABX9TyPPwBWqxeDBABGuJSNw6YXh",
      "include_colab_link": true
    },
    "kernelspec": {
      "name": "python3",
      "display_name": "Python 3"
    },
    "language_info": {
      "name": "python"
    }
  },
  "cells": [
    {
      "cell_type": "markdown",
      "metadata": {
        "id": "view-in-github",
        "colab_type": "text"
      },
      "source": [
        "<a href=\"https://colab.research.google.com/github/lesleypotters/feature-selection/blob/main/permutation.ipynb\" target=\"_parent\"><img src=\"https://colab.research.google.com/assets/colab-badge.svg\" alt=\"Open In Colab\"/></a>"
      ]
    },
    {
      "cell_type": "code",
      "metadata": {
        "colab": {
          "base_uri": "https://localhost:8080/"
        },
        "id": "KBH0mRautZlM",
        "outputId": "ceba5f3d-3e56-46cc-aebb-6437505088c4"
      },
      "source": [
        "pip install eli5"
      ],
      "execution_count": null,
      "outputs": [
        {
          "output_type": "stream",
          "name": "stdout",
          "text": [
            "Collecting eli5\n",
            "  Downloading eli5-0.11.0-py2.py3-none-any.whl (106 kB)\n",
            "\u001b[K     |████████████████████████████████| 106 kB 5.5 MB/s \n",
            "\u001b[?25hRequirement already satisfied: attrs>16.0.0 in /usr/local/lib/python3.7/dist-packages (from eli5) (21.2.0)\n",
            "Requirement already satisfied: six in /usr/local/lib/python3.7/dist-packages (from eli5) (1.15.0)\n",
            "Requirement already satisfied: scikit-learn>=0.20 in /usr/local/lib/python3.7/dist-packages (from eli5) (0.22.2.post1)\n",
            "Requirement already satisfied: tabulate>=0.7.7 in /usr/local/lib/python3.7/dist-packages (from eli5) (0.8.9)\n",
            "Requirement already satisfied: jinja2 in /usr/local/lib/python3.7/dist-packages (from eli5) (2.11.3)\n",
            "Requirement already satisfied: scipy in /usr/local/lib/python3.7/dist-packages (from eli5) (1.4.1)\n",
            "Requirement already satisfied: numpy>=1.9.0 in /usr/local/lib/python3.7/dist-packages (from eli5) (1.19.5)\n",
            "Requirement already satisfied: graphviz in /usr/local/lib/python3.7/dist-packages (from eli5) (0.10.1)\n",
            "Requirement already satisfied: joblib>=0.11 in /usr/local/lib/python3.7/dist-packages (from scikit-learn>=0.20->eli5) (1.1.0)\n",
            "Requirement already satisfied: MarkupSafe>=0.23 in /usr/local/lib/python3.7/dist-packages (from jinja2->eli5) (2.0.1)\n",
            "Installing collected packages: eli5\n",
            "Successfully installed eli5-0.11.0\n"
          ]
        }
      ]
    },
    {
      "cell_type": "code",
      "metadata": {
        "colab": {
          "base_uri": "https://localhost:8080/"
        },
        "id": "rh_GQU43tJvK",
        "outputId": "70d70156-1fe6-4e62-942e-e7aeb9116e01"
      },
      "source": [
        "import eli5\n",
        "from eli5.sklearn import PermutationImportance\n",
        "from sklearn.svm import SVC"
      ],
      "execution_count": null,
      "outputs": [
        {
          "output_type": "stream",
          "name": "stderr",
          "text": [
            "/usr/local/lib/python3.7/dist-packages/sklearn/utils/deprecation.py:144: FutureWarning: The sklearn.feature_selection.base module is  deprecated in version 0.22 and will be removed in version 0.24. The corresponding classes / functions should instead be imported from sklearn.feature_selection. Anything that cannot be imported from sklearn.feature_selection is now part of the private API.\n",
            "  warnings.warn(message, FutureWarning)\n"
          ]
        }
      ]
    },
    {
      "cell_type": "code",
      "metadata": {
        "id": "rR__bCectP8_"
      },
      "source": [
        "# ... load data\n",
        "\n",
        "svc = SVC().fit(X_train, y_train)\n",
        "perm = PermutationImportance(svc).fit(X_test, y_test)\n",
        "eli5.show_weights(perm)\n"
      ],
      "execution_count": null,
      "outputs": []
    },
    {
      "cell_type": "code",
      "metadata": {
        "id": "pLVC_ssUteob"
      },
      "source": [
        "import numpy as np\n",
        "from eli5.permutation_importance import get_score_importances\n",
        "\n",
        "# ... load data, define score function\n",
        "def score(X, y):\n",
        "    y_pred = predict(X)\n",
        "    return accuracy(y, y_pred)\n",
        "\n",
        "base_score, score_decreases = get_score_importances(score, X, y)\n",
        "feature_importances = np.mean(score_decreases, axis=0)"
      ],
      "execution_count": null,
      "outputs": []
    },
    {
      "cell_type": "code",
      "metadata": {
        "id": "44EMmYKjtkDU"
      },
      "source": [
        "import eli5\n",
        "from eli5.sklearn import PermutationImportance\n",
        "from sklearn.svm import SVC\n",
        "from sklearn.feature_selection import SelectFromModel\n",
        "\n",
        "# ... load data\n",
        "\n",
        "perm = PermutationImportance(SVC(), cv=5)\n",
        "perm.fit(X, y)\n",
        "\n",
        "# perm.feature_importances_ attribute is now available, it can be used\n",
        "# for feature selection - let's e.g. select features which increase\n",
        "# accuracy by at least 0.05:\n",
        "sel = SelectFromModel(perm, threshold=0.05, prefit=True)\n",
        "X_trans = sel.transform(X)\n",
        "\n",
        "# It is possible to combine SelectFromModel and\n",
        "# PermutationImportance directly, without fitting\n",
        "# PermutationImportance first:\n",
        "sel = SelectFromModel(\n",
        "    PermutationImportance(SVC(), cv=5),\n",
        "    threshold=0.05,\n",
        ").fit(X, y)\n",
        "X_trans = sel.transform(X)"
      ],
      "execution_count": null,
      "outputs": []
    }
  ]
}